{
 "cells": [
  {
   "cell_type": "markdown",
   "metadata": {},
   "source": [
    "## Model tests"
   ]
  },
  {
   "cell_type": "code",
   "execution_count": 1,
   "metadata": {},
   "outputs": [],
   "source": [
    "import sys\n",
    "import torch\n",
    "import torch.nn as nn\n",
    "\n",
    "sys.path.append(\"../source/\")\n",
    "from model import Model"
   ]
  },
  {
   "cell_type": "code",
   "execution_count": 2,
   "metadata": {},
   "outputs": [],
   "source": [
    "sizes = [2, 1, 2, 3]\n",
    "activations = 3 * [nn.ReLU()] + [None]"
   ]
  },
  {
   "cell_type": "code",
   "execution_count": 3,
   "metadata": {},
   "outputs": [
    {
     "name": "stdout",
     "output_type": "stream",
     "text": [
      "Number of parameters: 16\n"
     ]
    }
   ],
   "source": [
    "mlp = Model(sizes, activations)\n",
    "print(\"Number of parameters:\", mlp.num_parameters())"
   ]
  },
  {
   "cell_type": "code",
   "execution_count": 4,
   "metadata": {},
   "outputs": [
    {
     "name": "stdout",
     "output_type": "stream",
     "text": [
      "Initial parameters: tensor([ 0.1845,  0.3335,  0.1002,  0.1059,  0.3386,  0.5242,  0.4933, -0.3118,\n",
      "        -0.4091,  0.0158,  0.3523, -0.5892, -0.2485,  0.5434, -0.3620,  0.4495],\n",
      "       grad_fn=<CatBackward0>)\n"
     ]
    }
   ],
   "source": [
    "sampled_params = mlp.get_parameters()\n",
    "print(\"Initial parameters:\", sampled_params)"
   ]
  },
  {
   "cell_type": "code",
   "execution_count": 5,
   "metadata": {},
   "outputs": [
    {
     "name": "stdout",
     "output_type": "stream",
     "text": [
      "New parameters: tensor([ 0.3800,  0.5638,  0.8682,  0.7777,  0.5050,  1.1013,  0.5975,  0.2678,\n",
      "         0.1235,  0.1195,  1.2684, -0.2955,  0.7476,  0.8714, -0.2813,  0.8514],\n",
      "       grad_fn=<AddBackward0>)\n"
     ]
    }
   ],
   "source": [
    "updated_params = sampled_params + torch.rand(len(sampled_params))\n",
    "print(\"New parameters:\", updated_params)"
   ]
  },
  {
   "cell_type": "code",
   "execution_count": 6,
   "metadata": {},
   "outputs": [
    {
     "name": "stdout",
     "output_type": "stream",
     "text": [
      "Updated parameters: tensor([ 0.3800,  0.5638,  0.8682,  0.7777,  0.5050,  1.1013,  0.5975,  0.2678,\n",
      "         0.1235,  0.1195,  1.2684, -0.2955,  0.7476,  0.8714, -0.2813,  0.8514],\n",
      "       grad_fn=<CatBackward0>)\n"
     ]
    }
   ],
   "source": [
    "mlp.set_parameters(updated_params)\n",
    "updated_sampled_params = mlp.get_parameters()\n",
    "print(\"Updated parameters:\", updated_sampled_params)"
   ]
  },
  {
   "cell_type": "code",
   "execution_count": 7,
   "metadata": {},
   "outputs": [],
   "source": [
    "#grad = mlp.get_grad()\n",
    "#print(\"Initial grad:\", grad)\n",
    "\n",
    "#updated_grad = grad + torch.rand(len(sampled_params))\n",
    "#print(\"New grad:\", updated_grad)\n",
    "\n",
    "#mlp.set_grad(updated_grad)\n",
    "#updated_grad = mlp.get_grad()\n",
    "#print(\"Updated grad:\", updated_grad)"
   ]
  },
  {
   "cell_type": "code",
   "execution_count": 8,
   "metadata": {},
   "outputs": [
    {
     "data": {
      "text/plain": [
       "Model(\n",
       "  (layers): ModuleList(\n",
       "    (0): Linear(in_features=2, out_features=1, bias=True)\n",
       "    (1): Linear(in_features=1, out_features=2, bias=True)\n",
       "    (2): Linear(in_features=2, out_features=3, bias=True)\n",
       "  )\n",
       "  (loss): CrossEntropyLoss()\n",
       ")"
      ]
     },
     "execution_count": 8,
     "metadata": {},
     "output_type": "execute_result"
    }
   ],
   "source": [
    "mlp"
   ]
  },
  {
   "cell_type": "code",
   "execution_count": 9,
   "metadata": {},
   "outputs": [
    {
     "data": {
      "text/plain": [
       "(tensor([[0.1790, 0.7222],\n",
       "         [0.5919, 0.5301],\n",
       "         [0.7073, 0.8213],\n",
       "         [0.9221, 0.3109],\n",
       "         [0.6596, 0.8614],\n",
       "         [0.4591, 0.4444],\n",
       "         [0.7694, 0.5462],\n",
       "         [0.5989, 0.2000],\n",
       "         [0.6868, 0.5482],\n",
       "         [0.2828, 0.1170]]),\n",
       " tensor([1, 2, 2, 0, 0, 0, 0, 2, 0, 0]))"
      ]
     },
     "execution_count": 9,
     "metadata": {},
     "output_type": "execute_result"
    }
   ],
   "source": [
    "batch_size = 10\n",
    "x = torch.rand(batch_size, sizes[0])\n",
    "y = torch.randint(low=0, high=sizes[-1], size=(batch_size, ))\n",
    "x, y"
   ]
  },
  {
   "cell_type": "code",
   "execution_count": 10,
   "metadata": {},
   "outputs": [
    {
     "data": {
      "text/plain": [
       "tensor(11.0907, grad_fn=<NllLossBackward0>)"
      ]
     },
     "execution_count": 10,
     "metadata": {},
     "output_type": "execute_result"
    }
   ],
   "source": [
    "mlp.loss(mlp(x), y)"
   ]
  },
  {
   "cell_type": "code",
   "execution_count": 11,
   "metadata": {},
   "outputs": [],
   "source": [
    "log_target = mlp.compute_log_target(x, y)"
   ]
  },
  {
   "cell_type": "code",
   "execution_count": 12,
   "metadata": {},
   "outputs": [
    {
     "data": {
      "text/plain": [
       "tensor([-1.3964, -1.1848, -2.2313, -0.6806, -4.4561, -1.0043, -3.4460,  4.5694,\n",
       "         2.7551, -6.2463, -4.9182,  1.5851,  0.0235,  1.3601, -2.5140, -0.2876],\n",
       "       grad_fn=<CatBackward0>)"
      ]
     },
     "execution_count": 12,
     "metadata": {},
     "output_type": "execute_result"
    }
   ],
   "source": [
    "mlp.compute_grad_log_target(log_target)"
   ]
  }
 ],
 "metadata": {
  "kernelspec": {
   "display_name": "Python 3.11.0 64-bit",
   "language": "python",
   "name": "python3"
  },
  "language_info": {
   "codemirror_mode": {
    "name": "ipython",
    "version": 3
   },
   "file_extension": ".py",
   "mimetype": "text/x-python",
   "name": "python",
   "nbconvert_exporter": "python",
   "pygments_lexer": "ipython3",
   "version": "3.11.0"
  },
  "orig_nbformat": 4,
  "vscode": {
   "interpreter": {
    "hash": "aee8b7b246df8f9039afb4144a1f6fd8d2ca17a180786b69acc140d282b71a49"
   }
  }
 },
 "nbformat": 4,
 "nbformat_minor": 2
}
