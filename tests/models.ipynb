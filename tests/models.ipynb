{
 "cells": [
  {
   "cell_type": "markdown",
   "metadata": {},
   "source": [
    "## Model tests"
   ]
  },
  {
   "cell_type": "code",
   "execution_count": 1,
   "metadata": {},
   "outputs": [],
   "source": [
    "import sys\n",
    "import torch\n",
    "import torch.nn as nn\n",
    "\n",
    "sys.path.append(\"../source/\")\n",
    "from model import Model"
   ]
  },
  {
   "cell_type": "code",
   "execution_count": 2,
   "metadata": {},
   "outputs": [],
   "source": [
    "sizes = [2, 1, 2, 3]\n",
    "activations = 3 * [nn.ReLU()] + [None]"
   ]
  },
  {
   "cell_type": "code",
   "execution_count": 3,
   "metadata": {},
   "outputs": [
    {
     "name": "stdout",
     "output_type": "stream",
     "text": [
      "Number of parameters: 16\n"
     ]
    }
   ],
   "source": [
    "mlp = Model(sizes, activations, device=torch.device(\"mps\"))\n",
    "print(\"Number of parameters:\", mlp.num_parameters())"
   ]
  },
  {
   "cell_type": "code",
   "execution_count": 4,
   "metadata": {},
   "outputs": [
    {
     "name": "stdout",
     "output_type": "stream",
     "text": [
      "Initial parameters: tensor([ 0.2802, -0.0793,  0.3519, -0.4749,  0.9992,  0.2728,  0.4385,  0.5089,\n",
      "         0.3253, -0.1857, -0.4612, -0.5385, -0.6866,  0.2795,  0.1864,  0.4733],\n",
      "       device='mps:0', grad_fn=<CatBackward0>)\n"
     ]
    }
   ],
   "source": [
    "sampled_params = mlp.get_parameters()\n",
    "print(\"Initial parameters:\", sampled_params)"
   ]
  },
  {
   "cell_type": "code",
   "execution_count": 5,
   "metadata": {},
   "outputs": [
    {
     "name": "stdout",
     "output_type": "stream",
     "text": [
      "New parameters: tensor([ 0.9172,  0.0430,  1.0029,  0.2325,  1.0572,  0.3611,  0.7081,  1.1074,\n",
      "         1.2253,  0.6409, -0.4033,  0.1014,  0.0534,  1.2560,  0.7285,  1.2201],\n",
      "       device='mps:0', grad_fn=<AddBackward0>)\n"
     ]
    }
   ],
   "source": [
    "updated_params = sampled_params + torch.rand(len(sampled_params)).to(sampled_params.device)\n",
    "print(\"New parameters:\", updated_params)"
   ]
  },
  {
   "cell_type": "code",
   "execution_count": 6,
   "metadata": {},
   "outputs": [
    {
     "name": "stdout",
     "output_type": "stream",
     "text": [
      "Updated parameters: tensor([ 0.9172,  0.0430,  1.0029,  0.2325,  1.0572,  0.3611,  0.7081,  1.1074,\n",
      "         1.2253,  0.6409, -0.4033,  0.1014,  0.0534,  1.2560,  0.7285,  1.2201],\n",
      "       device='mps:0', grad_fn=<CatBackward0>)\n"
     ]
    }
   ],
   "source": [
    "mlp.set_parameters(updated_params)\n",
    "updated_sampled_params = mlp.get_parameters()\n",
    "print(\"Updated parameters:\", updated_sampled_params)"
   ]
  },
  {
   "cell_type": "code",
   "execution_count": 7,
   "metadata": {},
   "outputs": [],
   "source": [
    "#grad = mlp.get_grad()\n",
    "#print(\"Initial grad:\", grad)\n",
    "\n",
    "#updated_grad = grad + torch.rand(len(sampled_params))\n",
    "#print(\"New grad:\", updated_grad)\n",
    "\n",
    "#mlp.set_grad(updated_grad)\n",
    "#updated_grad = mlp.get_grad()\n",
    "#print(\"Updated grad:\", updated_grad)"
   ]
  },
  {
   "cell_type": "code",
   "execution_count": 8,
   "metadata": {},
   "outputs": [
    {
     "data": {
      "text/plain": [
       "Model(\n",
       "  (layers): ModuleList(\n",
       "    (0): Linear(in_features=2, out_features=1, bias=True)\n",
       "    (1): Linear(in_features=1, out_features=2, bias=True)\n",
       "    (2): Linear(in_features=2, out_features=3, bias=True)\n",
       "  )\n",
       "  (loss): CrossEntropyLoss()\n",
       ")"
      ]
     },
     "execution_count": 8,
     "metadata": {},
     "output_type": "execute_result"
    }
   ],
   "source": [
    "mlp"
   ]
  },
  {
   "cell_type": "code",
   "execution_count": 9,
   "metadata": {},
   "outputs": [
    {
     "data": {
      "text/plain": [
       "(tensor([[0.2892, 0.7407],\n",
       "         [0.5225, 0.3603],\n",
       "         [0.4359, 0.8282],\n",
       "         [0.7688, 0.9673],\n",
       "         [0.1713, 0.1388],\n",
       "         [0.8014, 0.1350],\n",
       "         [0.3062, 0.5511],\n",
       "         [0.6520, 0.7147],\n",
       "         [0.7551, 0.9675],\n",
       "         [0.3891, 0.5407]]),\n",
       " tensor([2, 0, 0, 0, 2, 2, 2, 2, 1, 2]))"
      ]
     },
     "execution_count": 9,
     "metadata": {},
     "output_type": "execute_result"
    }
   ],
   "source": [
    "batch_size = 10\n",
    "x = torch.rand(batch_size, sizes[0])\n",
    "y = torch.randint(low=0, high=sizes[-1], size=(batch_size, ))\n",
    "x, y"
   ]
  },
  {
   "cell_type": "code",
   "execution_count": 10,
   "metadata": {},
   "outputs": [
    {
     "data": {
      "text/plain": [
       "tensor(25.4043, device='mps:0', grad_fn=<NllLossBackward0>)"
      ]
     },
     "execution_count": 10,
     "metadata": {},
     "output_type": "execute_result"
    }
   ],
   "source": [
    "mlp.loss(mlp(x), y.to(mlp.device))"
   ]
  },
  {
   "cell_type": "code",
   "execution_count": 11,
   "metadata": {},
   "outputs": [
    {
     "data": {
      "text/plain": [
       "tensor(-25.4043, device='mps:0', grad_fn=<MulBackward0>)"
      ]
     },
     "execution_count": 11,
     "metadata": {},
     "output_type": "execute_result"
    }
   ],
   "source": [
    "mlp.compute_log_likelihood(x, y)"
   ]
  },
  {
   "cell_type": "code",
   "execution_count": 12,
   "metadata": {},
   "outputs": [
    {
     "data": {
      "text/plain": [
       "tensor(-19.9848, device='mps:0', grad_fn=<MulBackward0>)"
      ]
     },
     "execution_count": 12,
     "metadata": {},
     "output_type": "execute_result"
    }
   ],
   "source": [
    "mlp.compute_log_prior()"
   ]
  },
  {
   "cell_type": "code",
   "execution_count": 13,
   "metadata": {},
   "outputs": [],
   "source": [
    "log_target = mlp.compute_log_target(x, y)"
   ]
  },
  {
   "cell_type": "code",
   "execution_count": 14,
   "metadata": {},
   "outputs": [
    {
     "data": {
      "text/plain": [
       "tensor([ -5.8462,  -5.5962, -11.0059,  -9.0902, -13.1004,  -6.4912,  -8.8217,\n",
       "         -5.7267, -16.0900,   0.0522,   2.7179,   3.8249,  12.4967,  -7.8302,\n",
       "          0.1677,   4.4578], device='mps:0', grad_fn=<CatBackward0>)"
      ]
     },
     "execution_count": 14,
     "metadata": {},
     "output_type": "execute_result"
    }
   ],
   "source": [
    "mlp.compute_grad_log_target(log_target)"
   ]
  }
 ],
 "metadata": {
  "kernelspec": {
   "display_name": "Python 3.11.0 64-bit",
   "language": "python",
   "name": "python3"
  },
  "language_info": {
   "codemirror_mode": {
    "name": "ipython",
    "version": 3
   },
   "file_extension": ".py",
   "mimetype": "text/x-python",
   "name": "python",
   "nbconvert_exporter": "python",
   "pygments_lexer": "ipython3",
   "version": "3.11.0"
  },
  "orig_nbformat": 4,
  "vscode": {
   "interpreter": {
    "hash": "aee8b7b246df8f9039afb4144a1f6fd8d2ca17a180786b69acc140d282b71a49"
   }
  }
 },
 "nbformat": 4,
 "nbformat_minor": 2
}
