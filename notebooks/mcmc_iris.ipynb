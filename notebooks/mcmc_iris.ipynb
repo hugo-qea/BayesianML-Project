{
  "cells": [
    {
      "cell_type": "markdown",
      "metadata": {
        "id": "lW_jTZ-YUmb9"
      },
      "source": [
        "# Bayesian Machine Learning\n",
        "## Challenges in Markov chain Monte Carlo for Bayesian neural networks : Iris dataset"
      ]
    },
    {
      "cell_type": "markdown",
      "metadata": {
        "id": "cdO-M_poUmb-"
      },
      "source": [
        "#### Imports"
      ]
    },
    {
      "cell_type": "code",
      "execution_count": 1,
      "metadata": {
        "id": "19PObR1JUmb_"
      },
      "outputs": [],
      "source": [
        "import matplotlib.pyplot as plt\n",
        "import numpy as np\n",
        "import pandas as pd\n",
        "import sys\n",
        "import torch\n",
        "import torch.nn as nn\n",
        "import torch.nn.functional as F\n",
        "import warnings\n",
        "warnings.filterwarnings(action=\"ignore\")\n",
        "\n",
        "from sklearn.datasets import load_iris\n",
        "from sklearn.metrics import accuracy_score\n",
        "from sklearn.model_selection import train_test_split\n",
        "from typing import Union\n",
        "from tqdm import tqdm\n",
        "\n",
        "sys.path.append('../source/')\n",
        "from HMC import HMC\n",
        "from MALA import MALA, AdaptiveMALA\n",
        "from RWHM import Metropolis_Hastings\n",
        "from model import Model"
      ]
    },
    {
      "cell_type": "code",
      "execution_count": 2,
      "metadata": {
        "id": "wj4FJCrRUmcA"
      },
      "outputs": [],
      "source": [
        "seed = 42\n",
        "torch.random.manual_seed(seed)\n",
        "np.random.seed(seed)"
      ]
    },
    {
      "cell_type": "markdown",
      "metadata": {
        "id": "BZiqjWz-UmcA"
      },
      "source": [
        "### Utils"
      ]
    },
    {
      "cell_type": "code",
      "execution_count": 3,
      "metadata": {
        "id": "d9mq6NOuUmcA"
      },
      "outputs": [],
      "source": [
        "def log_target_factory(\n",
        "        mlp: Model,\n",
        "        X: Union[np.ndarray, torch.Tensor],\n",
        "        y: Union[np.ndarray, torch.Tensor],\n",
        "    ):\n",
        "\n",
        "    def log_target_fn(theta):\n",
        "        log_target_tensor = mlp.compute_log_target(X, y, theta)\n",
        "        log_target_array = log_target_tensor.cpu().detach().numpy()\n",
        "        return log_target_array\n",
        "\n",
        "    return log_target_fn"
      ]
    },
    {
      "cell_type": "code",
      "execution_count": 4,
      "metadata": {
        "id": "NvqFtA43UmcB"
      },
      "outputs": [],
      "source": [
        "def grad_log_target_factory(\n",
        "        mlp: Model,\n",
        "        X: Union[np.ndarray, torch.Tensor],\n",
        "        y: Union[np.ndarray, torch.Tensor],\n",
        "    ):\n",
        "\n",
        "    def grad_log_target_fn(theta):\n",
        "        log_target_tensor = mlp.compute_log_target(X, y, theta)\n",
        "        grad_tensor = mlp.compute_grad_log_target(log_target_tensor)\n",
        "        grad_array = grad_tensor.cpu().detach().numpy()\n",
        "        return grad_array\n",
        "\n",
        "    return grad_log_target_fn"
      ]
    },
    {
      "cell_type": "code",
      "execution_count": 5,
      "metadata": {
        "id": "aPJc4jPPUmcB"
      },
      "outputs": [],
      "source": [
        "def predict(\n",
        "        mlp: Model,\n",
        "        X: Union[np.ndarray, torch.Tensor],\n",
        "        y: Union[np.ndarray, torch.Tensor],\n",
        "        parameters_chain: Union[np.ndarray, torch.Tensor],\n",
        "        return_probas: bool=False\n",
        "    ):\n",
        "    n_samples = len(y)\n",
        "    n_classes = mlp.sizes[-1]\n",
        "\n",
        "    y_pred = np.zeros(n_samples, dtype=int)\n",
        "    y_probas = np.zeros((n_samples, n_classes))\n",
        "\n",
        "    for i, X_i in tqdm(enumerate(X)):\n",
        "        ret_i = mlp.predict(\n",
        "            X_i.reshape((1, -1)),\n",
        "            parameters_chain,\n",
        "            return_probas=return_probas\n",
        "        )\n",
        "\n",
        "        y_proba_i = None\n",
        "        if return_probas:\n",
        "            y_pred_i, y_proba_i = ret_i\n",
        "        else:\n",
        "            y_pred_i = ret_i\n",
        "\n",
        "        y_pred_i = y_pred_i.cpu().detach().numpy().flatten()\n",
        "        y_pred[i] = y_pred_i[0]\n",
        "\n",
        "        if y_proba_i is not None:\n",
        "            y_proba_i = y_proba_i.cpu().detach().numpy().flatten()\n",
        "            y_probas[i] = y_proba_i\n",
        "\n",
        "    ret = [y_pred]\n",
        "    if return_probas:\n",
        "        ret += [y_probas]\n",
        "\n",
        "    return tuple(ret)"
      ]
    },
    {
      "cell_type": "code",
      "execution_count": 6,
      "metadata": {
        "id": "Cf1oLJuUUmcB"
      },
      "outputs": [],
      "source": [
        "def run(\n",
        "    sizes,\n",
        "    activations,\n",
        "    X_train,\n",
        "    y_train,\n",
        "    X_test,\n",
        "    y_test,\n",
        "    N_steps=110_000,\n",
        "    N_burnin=10_000,\n",
        "    verbose=False,\n",
        "    mh_params=dict(sigma_prop=None),\n",
        "    hmc_params=dict(step_size=None, n_leapfrog=10),\n",
        "    mala_params=dict(step_size=None),\n",
        "    sala_params=dict(step_size=None),\n",
        "    n_params_to_plot=2,\n",
        "):\n",
        "    samples_to_consider = (N_steps - N_burnin) // 10\n",
        "\n",
        "\n",
        "    plot, n_lines, n_columns = False, 1, 1\n",
        "    if n_params_to_plot > 0:\n",
        "        n_columns = 4\n",
        "        n_lines = (n_params_to_plot // n_columns) + int(n_params_to_plot % n_columns != 0)\n",
        "        plot = True\n",
        "\n",
        "    def do_plot(title, sample):\n",
        "        if not plot:\n",
        "            return\n",
        "        plt.figure(figsize=(5*n_columns, 5*n_lines))\n",
        "        plt.title(title)\n",
        "        for i in range(n_params_to_plot):\n",
        "            plt.subplot(n_lines, n_columns, i+1)\n",
        "            plt.plot(sample[:, i], label=f\"$\\theta_{i}$\")\n",
        "        plt.show()\n",
        "\n",
        "    mlp = Model(sizes, activations)\n",
        "    print(mlp)\n",
        "\n",
        "    log_target_fn = log_target_factory(mlp, X_train, y_train)\n",
        "    grad_log_target_fn = log_target_factory(mlp, X_train, y_train)\n",
        "\n",
        "    N_params = mlp.num_parameters()\n",
        "    mu = np.zeros(N_params)\n",
        "    sigma =  10 * np.ones(N_params)\n",
        "    def prior(size):\n",
        "        return np.random.multivariate_normal(mean=mu, cov=np.diag(sigma), size=size)\n",
        "\n",
        "    theta_0 = prior(1)[0]\n",
        "\n",
        "    print(\"_Prior_Sampling_\".center(100).replace(\" \", \"=\").replace(\"_\", \" \"))\n",
        "    sample = prior(samples_to_consider)\n",
        "    do_plot(\"Prior Sampling\", sample)\n",
        "    y_pred, y_probas = predict(\n",
        "        mlp, X_test, y_test, parameters_chain=sample, return_probas=True\n",
        "    )\n",
        "    print(\"\\tAccuracy: \", accuracy_score(y_test, y_pred))\n",
        "\n",
        "    print(\"_Hamiltonian_Monte_Carlo_\".center(100).replace(\" \", \"=\").replace(\"_\", \" \"))\n",
        "    HMC_sampler = HMC(\n",
        "        log_target=log_target_fn, grad_log_target=grad_log_target_fn, theta_0=theta_0, **hmc_params\n",
        "    )\n",
        "    sample_HMC, acc_HMC = HMC_sampler.sample(N_steps, N_burnin, verbose=verbose)\n",
        "    do_plot(\"Hamiltonian Monte Carlo\", sample_HMC)\n",
        "    print(\"\\tAcceptance rate: \", acc_HMC)\n",
        "    y_pred, y_probas = predict(\n",
        "        mlp, X_test, y_test, parameters_chain=sample_HMC[N_steps-samples_to_consider::], return_probas=True\n",
        "    )\n",
        "    print(\"\\tAccuracy: \", accuracy_score(y_test, y_pred))\n",
        "\n",
        "    print(\"_Adapative_MALA_\".center(100).replace(\" \", \"=\").replace(\"_\", \" \"))\n",
        "    SALA_sampler = AdaptiveMALA(\n",
        "        log_target=log_target_fn, grad_log_target=grad_log_target_fn, theta_0=theta_0, **sala_params\n",
        "    )\n",
        "    sample_SALA, acc_SALA = SALA_sampler.sample(N_steps, N_burnin, verbose=verbose)\n",
        "    do_plot(\"Adaptive MALA\", sample_SALA)\n",
        "    print(\"\\tAcceptance rate: \", acc_SALA)\n",
        "    y_pred, y_probas = predict(\n",
        "        mlp, X_test, y_test, parameters_chain=sample_SALA[N_steps-samples_to_consider::], return_probas=True\n",
        "    )\n",
        "    print(\"\\tAccuracy: \", accuracy_score(y_test, y_pred))\n",
        "\n",
        "    print(\"_MALA_\".center(100).replace(\" \", \"=\").replace(\"_\", \" \"))\n",
        "    if mala_params[\"step_size\"] is None:\n",
        "        mala_params[\"step_size\"] =np.square(0.004*np.power(N_params, -0.33))\n",
        "    MALA_sampler = MALA(\n",
        "        log_target=log_target_fn, grad_log_target=grad_log_target_fn, theta_0=theta_0, **mala_params\n",
        "    )\n",
        "    sample_MALA, acc_MALA = MALA_sampler.sample(N_steps, N_burnin, verbose=verbose)\n",
        "    do_plot(\"MALA\", sample_MALA)\n",
        "    print(\"\\tAcceptance rate: \", acc_MALA)\n",
        "    y_pred, y_probas = predict(\n",
        "        mlp, X_test, y_test, parameters_chain=sample_MALA[N_steps-samples_to_consider::], return_probas=True\n",
        "    )\n",
        "    print(\"\\tAccuracy: \", accuracy_score(y_test, y_pred))\n",
        "\n",
        "    print(\"_Symmetric_Random_Walk_Metropolis_Hastings_\".center(100).replace(\" \", \"=\").replace(\"_\", \" \"))\n",
        "    MH_sampler = Metropolis_Hastings(\n",
        "        log_target=log_target_fn, theta_0=theta_0, **mh_params\n",
        "    )\n",
        "    sample_MH , acc_MH = MH_sampler.sample(N_steps,N_burnin, verbose=verbose)\n",
        "    do_plot(\"Metropolis Hastings\", sample_MH)\n",
        "    print(\"\\tAcceptance rate: \", acc_MH)\n",
        "    y_pred, y_probas = predict(\n",
        "        mlp, X_test, y_test, parameters_chain=sample_MH[N_steps-samples_to_consider::], return_probas=True\n",
        "    )\n",
        "    print(\"\\tAccuracy: \", accuracy_score(y_test, y_pred))\n",
        ""
      ]
    },
    {
      "cell_type": "markdown",
      "metadata": {
        "id": "flZLUD-8UmcI"
      },
      "source": [
        "### Iris"
      ]
    },
    {
      "cell_type": "code",
      "execution_count": 7,
      "metadata": {
        "id": "XTyH6xhqUmcI"
      },
      "outputs": [],
      "source": [
        "X_iris, Y_iris = load_iris(return_X_y=True)\n",
        "X_iris = X_iris\n",
        "Y_iris = Y_iris\n",
        "X_iris, X_iris_test, Y_iris, Y_iris_test = train_test_split(X_iris, Y_iris, test_size=0.2)"
      ]
    },
    {
      "cell_type": "code",
      "source": [
        "print(Y_iris.shape, Y_iris_test.shape)"
      ],
      "metadata": {
        "colab": {
          "base_uri": "https://localhost:8080/"
        },
        "id": "87updHmNV-ox",
        "outputId": "82879df3-44c0-4790-bdfe-cad470d9311b"
      },
      "execution_count": 8,
      "outputs": [
        {
          "output_type": "stream",
          "name": "stdout",
          "text": [
            "(120,) (30,)\n"
          ]
        }
      ]
    },
    {
      "cell_type": "code",
      "execution_count": null,
      "metadata": {
        "colab": {
          "base_uri": "https://localhost:8080/",
          "height": 456
        },
        "id": "Qc9JZO4IUmcI",
        "outputId": "cfe08b48-3446-4ed1-8e75-e926ebb0e4ff"
      },
      "outputs": [
        {
          "output_type": "stream",
          "name": "stdout",
          "text": [
            "Model(\n",
            "  (layers): ModuleList(\n",
            "    (0): Linear(in_features=4, out_features=2, bias=True)\n",
            "    (1): Linear(in_features=2, out_features=2, bias=True)\n",
            "    (2): Linear(in_features=2, out_features=3, bias=True)\n",
            "  )\n",
            "  (loss): CrossEntropyLoss()\n",
            ")\n",
            "========================================== Prior Sampling ==========================================\n"
          ]
        },
        {
          "output_type": "display_data",
          "data": {
            "text/plain": [
              "<Figure size 2000x500 with 4 Axes>"
            ],
            "image/png": "[encoded data removed]"
          },
          "metadata": {}
        },
        {
          "output_type": "stream",
          "name": "stderr",
          "text": [
            "\r0it [00:00, ?it/s]"
          ]
        }
      ],
      "source": [
        "run(\n",
        "    sizes=[4, 2, 2, 3],\n",
        "    activations=[nn.ReLU()] * 3 + [None],\n",
        "    X_train=X_iris,\n",
        "    y_train=Y_iris,\n",
        "    X_test=X_iris_test,\n",
        "    y_test=Y_iris_test,\n",
        "    N_steps=110_000,\n",
        "    N_burnin=10_000,\n",
        "    verbose=False,\n",
        "    hmc_params=dict(step_size=3e-5, n_leapfrog=10),\n",
        "    sala_params=dict(step_size=2e-7),\n",
        "    mala_params=dict(step_size=1e-7),\n",
        "    n_params_to_plot=4,\n",
        ")"
      ]
    }
  ],
  "metadata": {
    "kernelspec": {
      "display_name": "Python 3",
      "name": "python3"
    },
    "language_info": {
      "codemirror_mode": {
        "name": "ipython",
        "version": 3
      },
      "file_extension": ".py",
      "mimetype": "text/x-python",
      "name": "python",
      "nbconvert_exporter": "python",
      "pygments_lexer": "ipython3",
      "version": "3.11.5"
    },
    "orig_nbformat": 4,
    "vscode": {
      "interpreter": {
        "hash": "aee8b7b246df8f9039afb4144a1f6fd8d2ca17a180786b69acc140d282b71a49"
      }
    },
    "colab": {
      "provenance": [],
      "gpuType": "T4"
    },
    "accelerator": "GPU"
  },
  "nbformat": 4,
  "nbformat_minor": 0
}